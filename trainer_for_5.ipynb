{
 "cells": [
  {
   "cell_type": "code",
   "execution_count": 1,
   "metadata": {},
   "outputs": [
    {
     "name": "stdout",
     "output_type": "stream",
     "text": [
      "curses is not supported on this machine (please install/reinstall curses for an optimal experience)\n",
      "WARNING:tensorflow:From C:\\Users\\Lenovo\\Anaconda3\\lib\\site-packages\\tensorflow\\python\\framework\\op_def_library.py:263: colocate_with (from tensorflow.python.framework.ops) is deprecated and will be removed in a future version.\n",
      "Instructions for updating:\n",
      "Colocations handled automatically by placer.\n"
     ]
    }
   ],
   "source": [
    "import tensorflow as tf\n",
    "import tflearn\n",
    "from tflearn.layers.conv import conv_2d,max_pool_2d\n",
    "from tflearn.layers.core import input_data,dropout,fully_connected\n",
    "from tflearn.layers.estimator import regression\n",
    "import numpy as np\n",
    "import cv2\n",
    "from sklearn.utils import shuffle"
   ]
  },
  {
   "cell_type": "code",
   "execution_count": 2,
   "metadata": {},
   "outputs": [],
   "source": [
    "#Load Images from Swing\n",
    "loadedImages = []\n",
    "\n",
    "#Load Images From Palm\n",
    "for i in range(0, 1000):\n",
    "    image = cv2.imread(r'C:\\Users\\Lenovo\\Desktop\\Dataset\\Dataset\\PalmImages\\palm_' + str(i) + '.png')\n",
    "    gray_image = cv2.cvtColor(image, cv2.COLOR_BGR2GRAY)\n",
    "    loadedImages.append(gray_image.reshape(215, 240, 1))\n",
    "#Load Images From Fist\n",
    "for i in range(0, 1000):\n",
    "    image = cv2.imread(r'C:\\Users\\Lenovo\\Desktop\\Dataset\\Dataset\\ThumbsUp\\ThumbsUp_' + str(i) + '.png')\n",
    "    gray_image = cv2.cvtColor(image, cv2.COLOR_BGR2GRAY)\n",
    "    loadedImages.append(gray_image.reshape(215, 240, 1))\n",
    "for i in range(0, 1000):\n",
    "    image = cv2.imread(r'C:\\Users\\Lenovo\\Desktop\\Dataset\\Dataset\\ThumbsDown\\ThumbsDown_' + str(i) + '.png')\n",
    "    gray_image = cv2.cvtColor(image, cv2.COLOR_BGR2GRAY)\n",
    "    loadedImages.append(gray_image.reshape(215, 240, 1))\n",
    "    \n",
    "for i in range(0, 1000):\n",
    "    image = cv2.imread(r'C:\\Users\\Lenovo\\Desktop\\Dataset\\Dataset\\left\\left_' + str(i) + '.png')\n",
    "    gray_image = cv2.cvtColor(image, cv2.COLOR_BGR2GRAY)\n",
    "    loadedImages.append(gray_image.reshape(215, 240, 1))\n",
    "    \n",
    "for i in range(0, 1000):\n",
    "    image = cv2.imread(r'C:\\Users\\Lenovo\\Desktop\\Dataset\\Dataset\\right\\right_' + str(i) + '.png')\n",
    "    gray_image = cv2.cvtColor(image, cv2.COLOR_BGR2GRAY)\n",
    "    loadedImages.append(gray_image.reshape(215, 240, 1))"
   ]
  },
  {
   "cell_type": "code",
   "execution_count": 3,
   "metadata": {},
   "outputs": [],
   "source": [
    "# Create OutputVector\n",
    "outputVectors = []\n",
    "for i in range(0, 1000):\n",
    "    outputVectors.append([1, 0, 0, 0, 0])\n",
    "\n",
    "for i in range(0, 1000):\n",
    "    outputVectors.append([0, 1, 0, 0, 0])\n",
    "\n",
    "for i in range(0, 1000):\n",
    "    outputVectors.append([0, 0, 1, 0, 0])\n",
    "    \n",
    "for i in range(0, 1000):\n",
    "    outputVectors.append([0, 0, 0, 1, 0])\n",
    "    \n",
    "for i in range(0, 1000):\n",
    "    outputVectors.append([0, 0, 0, 0, 1])"
   ]
  },
  {
   "cell_type": "code",
   "execution_count": 5,
   "metadata": {},
   "outputs": [],
   "source": [
    "TestImages = []\n",
    "#Load Images for swing\n",
    "\n",
    "#Load Images From Palm\n",
    "for i in range(0, 100):\n",
    "    image = cv2.imread(r'C:\\Users\\Lenovo\\Desktop\\Dataset\\Dataset\\PalmTest\\palm_' + str(i) + '.png')\n",
    "    gray_image = cv2.cvtColor(image, cv2.COLOR_BGR2GRAY)\n",
    "    TestImages.append(gray_image.reshape(215,240, 1))\n",
    "\n",
    "#Load Images From Fist\n",
    "for i in range(0, 100):\n",
    "    image = cv2.imread(r'C:\\Users\\Lenovo\\Desktop\\Dataset\\Dataset\\ThumbsUpTest\\ThumbsUp_' + str(i) + '.png')\n",
    "    gray_image = cv2.cvtColor(image, cv2.COLOR_BGR2GRAY)\n",
    "    TestImages.append(gray_image.reshape(215,240, 1))\n",
    "\n",
    "for i in range(0, 100):\n",
    "    image = cv2.imread(r'C:\\Users\\Lenovo\\Desktop\\Dataset\\Dataset\\ThumbsDownTest\\ThumbsDown_' + str(i) + '.png')\n",
    "    gray_image = cv2.cvtColor(image, cv2.COLOR_BGR2GRAY)\n",
    "    TestImages.append(gray_image.reshape(215,240, 1))\n",
    "\n",
    "for i in range(0, 100):\n",
    "    image = cv2.imread(r'C:\\Users\\Lenovo\\Desktop\\Dataset\\Dataset\\leftTest\\left_' + str(i) + '.png')\n",
    "    gray_image = cv2.cvtColor(image, cv2.COLOR_BGR2GRAY)\n",
    "    TestImages.append(gray_image.reshape(215,240, 1))\n",
    "    \n",
    "for i in range(0, 100):\n",
    "    image = cv2.imread(r'C:\\Users\\Lenovo\\Desktop\\Dataset\\Dataset\\rightTest\\right_' + str(i) + '.png')\n",
    "    gray_image = cv2.cvtColor(image, cv2.COLOR_BGR2GRAY)\n",
    "    TestImages.append(gray_image.reshape(215,240, 1))\n"
   ]
  },
  {
   "cell_type": "code",
   "execution_count": 6,
   "metadata": {},
   "outputs": [],
   "source": [
    "testLabels = []\n",
    "for i in range(0, 1000):\n",
    "    testLabels.append([1, 0, 0, 0, 0])\n",
    "\n",
    "for i in range(0, 1000):\n",
    "    testLabels.append([0, 1, 0, 0, 0])\n",
    "\n",
    "for i in range(0, 1000):\n",
    "    testLabels.append([0, 0, 1, 0, 0])\n",
    "\n",
    "for i in range(0, 1000):\n",
    "    testLabels.append([0, 0, 0, 1, 0])\n",
    "    \n",
    "for i in range(0, 1000):\n",
    "    testLabels.append([0, 0, 0, 0, 1])"
   ]
  },
  {
   "cell_type": "code",
   "execution_count": 9,
   "metadata": {},
   "outputs": [],
   "source": [
    "# Define the CNN Model\n",
    "tf.reset_default_graph()\n",
    "convnet=input_data(shape=[None,215,240,1],name='input')\n",
    "convnet=conv_2d(convnet,32,2,activation='relu')\n",
    "convnet=max_pool_2d(convnet,2)\n",
    "\n",
    "convnet=conv_2d(convnet,64,2,activation='relu')\n",
    "convnet=max_pool_2d(convnet,2)\n",
    "\n",
    "convnet=conv_2d(convnet,128,2,activation='relu')\n",
    "convnet=max_pool_2d(convnet,2)\n",
    "\n",
    "convnet=conv_2d(convnet,256,2,activation='relu')\n",
    "convnet=max_pool_2d(convnet,2)\n",
    "\n",
    "convnet=conv_2d(convnet,256,2,activation='relu')\n",
    "convnet=max_pool_2d(convnet,2)\n",
    "\n",
    "convnet=conv_2d(convnet,128,2,activation='relu')\n",
    "convnet=max_pool_2d(convnet,2)\n",
    "\n",
    "convnet=conv_2d(convnet,64,2,activation='relu')\n",
    "convnet=max_pool_2d(convnet,2)\n",
    "\n",
    "convnet=fully_connected(convnet,1000,activation='relu')\n",
    "convnet=dropout(convnet,0.75)\n",
    "\n",
    "convnet=fully_connected(convnet,5,activation='softmax')\n",
    "\n",
    "convnet=regression(convnet,optimizer='adam',learning_rate=0.001,loss='categorical_crossentropy',name='regression')\n",
    "\n",
    "model=tflearn.DNN(convnet,tensorboard_verbose=0)\n"
   ]
  },
  {
   "cell_type": "code",
   "execution_count": null,
   "metadata": {},
   "outputs": [],
   "source": [
    "# Shuffle Training Data\n",
    "loadedImages, outputVectors = shuffle(loadedImages, outputVectors, random_state=0)\n",
    "\n",
    "# Train model\n",
    "model.fit(loadedImages, outputVectors, n_epoch=5,\n",
    "           validation_set = (TestImages, testLabels),\n",
    "           snapshot_step=100, show_metric=True)\n",
    "\n",
    "model.save(\"trainer_for_5.tfl\")"
   ]
  },
  {
   "cell_type": "code",
   "execution_count": null,
   "metadata": {},
   "outputs": [],
   "source": []
  }
 ],
 "metadata": {
  "kernelspec": {
   "display_name": "Python 3",
   "language": "python",
   "name": "python3"
  },
  "language_info": {
   "codemirror_mode": {
    "name": "ipython",
    "version": 3
   },
   "file_extension": ".py",
   "mimetype": "text/x-python",
   "name": "python",
   "nbconvert_exporter": "python",
   "pygments_lexer": "ipython3",
   "version": "3.6.4"
  }
 },
 "nbformat": 4,
 "nbformat_minor": 2
}
